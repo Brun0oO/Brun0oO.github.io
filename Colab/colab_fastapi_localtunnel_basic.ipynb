{
  "nbformat": 4,
  "nbformat_minor": 0,
  "metadata": {
    "colab": {
      "provenance": [],
      "include_colab_link": true
    },
    "kernelspec": {
      "display_name": "Python 3",
      "name": "python3"
    }
  },
  "cells": [
    {
      "cell_type": "markdown",
      "metadata": {
        "id": "view-in-github",
        "colab_type": "text"
      },
      "source": [
        "<a href=\"https://colab.research.google.com/github/Brun0oO/Brun0oO.github.io/blob/master/Colab/colab_fastapi_localtunnel_basic.ipynb\" target=\"_parent\"><img src=\"https://colab.research.google.com/assets/colab-badge.svg\" alt=\"Open In Colab\"/></a>"
      ]
    },
    {
      "cell_type": "markdown",
      "source": [
        "# Introduction"
      ],
      "metadata": {
        "id": "g3-nEn7OH6lf"
      }
    },
    {
      "cell_type": "markdown",
      "source": [
        "This notebook is used in conjunction with the following project: https://github.com/Brun0oO/defold-colab. It serves as a proof of concept to demonstrate a kind of a communication protocol between a Google Colab notebook and a Defold application on its smartphone."
      ],
      "metadata": {
        "id": "OLKH_9JjG6DJ"
      }
    },
    {
      "cell_type": "markdown",
      "source": [
        "# Install LocalTunnel service"
      ],
      "metadata": {
        "id": "yDknYL4e2vTz"
      }
    },
    {
      "cell_type": "markdown",
      "source": [
        "Localtunnel allows you to easily share a web service on your local development machine without messing with DNS and firewall settings."
      ],
      "metadata": {
        "id": "N0fUir2z4_hP"
      }
    },
    {
      "cell_type": "code",
      "source": [
        "import logging\n",
        "import os\n",
        "\n",
        "if os.path.exists(\"/tools/node/\") == False:\n",
        "  !apt install nodejs\n",
        "  !npm i -g npm\n",
        "else:\n",
        "  !echo \"nodejs Already installed\""
      ],
      "metadata": {
        "colab": {
          "base_uri": "https://localhost:8080/"
        },
        "id": "3KBGxmHLz8Jg",
        "outputId": "408068f2-70fc-456d-8103-9957a2becb73"
      },
      "execution_count": null,
      "outputs": [
        {
          "output_type": "stream",
          "name": "stdout",
          "text": [
            "nodejs Already installed\n"
          ]
        }
      ]
    },
    {
      "cell_type": "code",
      "source": [
        "from IPython.display import HTML, clear_output\n",
        "if os.path.exists(\"/tools/node/lib/node_modules/localtunnel/\") == False:\n",
        "  !npm install -g localtunnel\n",
        "  clear_output(wait=True)\n",
        "  !echo \"succeeded\"\n",
        "else:\n",
        "  !echo \"localtunnel Already installed\""
      ],
      "metadata": {
        "colab": {
          "base_uri": "https://localhost:8080/"
        },
        "id": "_WBoFvSp0IUJ",
        "outputId": "eaccc8da-aa22-48ef-9ec0-86e113c0dbd1"
      },
      "execution_count": null,
      "outputs": [
        {
          "output_type": "stream",
          "name": "stdout",
          "text": [
            "succeeded\n"
          ]
        }
      ]
    },
    {
      "cell_type": "markdown",
      "metadata": {
        "id": "_dPNjwSC_vaI"
      },
      "source": [
        "# **Install Required python library**"
      ]
    },
    {
      "cell_type": "code",
      "metadata": {
        "colab": {
          "base_uri": "https://localhost:8080/"
        },
        "id": "1RLgb7uF_Cod",
        "outputId": "f6032c10-99e2-41ef-d39d-10d6cef6e8ee"
      },
      "source": [
        "!pip install fastapi nest-asyncio uvicorn python-multipart qrcode"
      ],
      "execution_count": null,
      "outputs": [
        {
          "output_type": "stream",
          "name": "stdout",
          "text": [
            "Looking in indexes: https://pypi.org/simple, https://us-python.pkg.dev/colab-wheels/public/simple/\n",
            "Collecting fastapi\n",
            "  Downloading fastapi-0.89.0-py3-none-any.whl (55 kB)\n",
            "\u001b[2K     \u001b[90m━━━━━━━━━━━━━━━━━━━━━━━━━━━━━━━━━━━━━━━━\u001b[0m \u001b[32m55.6/55.6 KB\u001b[0m \u001b[31m3.6 MB/s\u001b[0m eta \u001b[36m0:00:00\u001b[0m\n",
            "\u001b[?25hCollecting nest-asyncio\n",
            "  Downloading nest_asyncio-1.5.6-py3-none-any.whl (5.2 kB)\n",
            "Collecting uvicorn\n",
            "  Downloading uvicorn-0.20.0-py3-none-any.whl (56 kB)\n",
            "\u001b[2K     \u001b[90m━━━━━━━━━━━━━━━━━━━━━━━━━━━━━━━━━━━━━━━━\u001b[0m \u001b[32m56.9/56.9 KB\u001b[0m \u001b[31m6.2 MB/s\u001b[0m eta \u001b[36m0:00:00\u001b[0m\n",
            "\u001b[?25hCollecting python-multipart\n",
            "  Downloading python-multipart-0.0.5.tar.gz (32 kB)\n",
            "  Preparing metadata (setup.py) ... \u001b[?25l\u001b[?25hdone\n",
            "Collecting qrcode\n",
            "  Downloading qrcode-7.3.1.tar.gz (43 kB)\n",
            "\u001b[2K     \u001b[90m━━━━━━━━━━━━━━━━━━━━━━━━━━━━━━━━━━━━━━━━\u001b[0m \u001b[32m43.5/43.5 KB\u001b[0m \u001b[31m5.5 MB/s\u001b[0m eta \u001b[36m0:00:00\u001b[0m\n",
            "\u001b[?25h  Preparing metadata (setup.py) ... \u001b[?25l\u001b[?25hdone\n",
            "Requirement already satisfied: pydantic!=1.7,!=1.7.1,!=1.7.2,!=1.7.3,!=1.8,!=1.8.1,<2.0.0,>=1.6.2 in /usr/local/lib/python3.8/dist-packages (from fastapi) (1.10.2)\n",
            "Collecting starlette==0.22.0\n",
            "  Downloading starlette-0.22.0-py3-none-any.whl (64 kB)\n",
            "\u001b[2K     \u001b[90m━━━━━━━━━━━━━━━━━━━━━━━━━━━━━━━━━━━━━━━━\u001b[0m \u001b[32m64.3/64.3 KB\u001b[0m \u001b[31m6.6 MB/s\u001b[0m eta \u001b[36m0:00:00\u001b[0m\n",
            "\u001b[?25hRequirement already satisfied: typing-extensions>=3.10.0 in /usr/local/lib/python3.8/dist-packages (from starlette==0.22.0->fastapi) (4.4.0)\n",
            "Collecting anyio<5,>=3.4.0\n",
            "  Downloading anyio-3.6.2-py3-none-any.whl (80 kB)\n",
            "\u001b[2K     \u001b[90m━━━━━━━━━━━━━━━━━━━━━━━━━━━━━━━━━━━━━━━━\u001b[0m \u001b[32m80.6/80.6 KB\u001b[0m \u001b[31m10.2 MB/s\u001b[0m eta \u001b[36m0:00:00\u001b[0m\n",
            "\u001b[?25hRequirement already satisfied: click>=7.0 in /usr/local/lib/python3.8/dist-packages (from uvicorn) (7.1.2)\n",
            "Collecting h11>=0.8\n",
            "  Downloading h11-0.14.0-py3-none-any.whl (58 kB)\n",
            "\u001b[2K     \u001b[90m━━━━━━━━━━━━━━━━━━━━━━━━━━━━━━━━━━━━━━━━\u001b[0m \u001b[32m58.3/58.3 KB\u001b[0m \u001b[31m5.9 MB/s\u001b[0m eta \u001b[36m0:00:00\u001b[0m\n",
            "\u001b[?25hRequirement already satisfied: six>=1.4.0 in /usr/local/lib/python3.8/dist-packages (from python-multipart) (1.15.0)\n",
            "Requirement already satisfied: idna>=2.8 in /usr/local/lib/python3.8/dist-packages (from anyio<5,>=3.4.0->starlette==0.22.0->fastapi) (2.10)\n",
            "Collecting sniffio>=1.1\n",
            "  Downloading sniffio-1.3.0-py3-none-any.whl (10 kB)\n",
            "Building wheels for collected packages: python-multipart, qrcode\n",
            "  Building wheel for python-multipart (setup.py) ... \u001b[?25l\u001b[?25hdone\n",
            "  Created wheel for python-multipart: filename=python_multipart-0.0.5-py3-none-any.whl size=31678 sha256=0b916bc70d56b8ed006122f2ae4af3a6a53ef3314dac6d243f7418b751bf88e8\n",
            "  Stored in directory: /root/.cache/pip/wheels/9e/fc/1c/cf980e6413d3ee8e70cd8f39e2366b0f487e3e221aeb452eb0\n",
            "  Building wheel for qrcode (setup.py) ... \u001b[?25l\u001b[?25hdone\n",
            "  Created wheel for qrcode: filename=qrcode-7.3.1-py3-none-any.whl size=40400 sha256=20a501a5af528bb2bd5deb3bf186d338d21af0ef2edc0fb69ca10068b7e9f63c\n",
            "  Stored in directory: /root/.cache/pip/wheels/35/fd/04/2768886c56207acee0d6dc6b9bd5d06dac63a810f0c0a42516\n",
            "Successfully built python-multipart qrcode\n",
            "Installing collected packages: sniffio, qrcode, python-multipart, nest-asyncio, h11, uvicorn, anyio, starlette, fastapi\n",
            "Successfully installed anyio-3.6.2 fastapi-0.89.0 h11-0.14.0 nest-asyncio-1.5.6 python-multipart-0.0.5 qrcode-7.3.1 sniffio-1.3.0 starlette-0.22.0 uvicorn-0.20.0\n"
          ]
        }
      ]
    },
    {
      "cell_type": "markdown",
      "metadata": {
        "id": "nunDh7iWRZG5"
      },
      "source": [
        "# **Simple FastAPI Server**"
      ]
    },
    {
      "cell_type": "markdown",
      "metadata": {
        "id": "0nigGiexbU8z"
      },
      "source": [
        "The following code launches a fastapi server delevering RESTful APIs available through a tunnel (provided by the localtunnel service). "
      ]
    },
    {
      "cell_type": "code",
      "metadata": {
        "colab": {
          "base_uri": "https://localhost:8080/",
          "height": 1000
        },
        "id": "04B4VeH7RsiP",
        "outputId": "bccc32be-227b-4b2c-a6cc-056fa85a82df"
      },
      "source": [
        "import subprocess\n",
        "import uuid\n",
        "\n",
        "from fastapi import FastAPI, UploadFile, File, Form, HTTPException\n",
        "from fastapi.responses import HTMLResponse, RedirectResponse\n",
        "\n",
        "import nest_asyncio\n",
        "import uvicorn\n",
        "import io\n",
        "\n",
        "import pathlib\n",
        "from PIL import Image\n",
        "\n",
        "import qrcode\n",
        "from qrcode.image.styledpil import StyledPilImage\n",
        "from qrcode.image.styles.moduledrawers import HorizontalBarsDrawer\n",
        "from qrcode.image.styles.colormasks import RadialGradiantColorMask\n",
        "\n",
        "import matplotlib.pyplot as plt\n",
        "from time import sleep\n",
        "\n",
        "# Tunnel configuration\n",
        "subdomain = uuid.uuid4().hex\n",
        "port = 8000\n",
        "cmd = \"lt -s %s -p %s\" % (subdomain, port)\n",
        "public_url = \"https://%s.localtunnel.me\" % subdomain\n",
        "\n",
        "# QRCode creation\n",
        "def createQRCode(text):\n",
        "  qr = qrcode.QRCode(\n",
        "      version=1,\n",
        "      error_correction=qrcode.constants.ERROR_CORRECT_L,\n",
        "      box_size=10,\n",
        "      border=4,\n",
        "  )\n",
        "  qr.add_data(text)\n",
        "\n",
        "  result = qr.make_image(image_factory=StyledPilImage, module_drawer=HorizontalBarsDrawer(), color_mask=RadialGradiantColorMask())\n",
        "\n",
        "  return result\n",
        "\n",
        "# Processing of the image provided by call to the dedicated web service\n",
        "def processImage(img):\n",
        "  # here your complex processing operation \n",
        "  # well, in this basic example ;o)\n",
        "  # I just chose to return the dimensions of the image\n",
        "  # At the end, remember to return your result using an array containing \n",
        "  # one or more basic python data (i.e. which can be serialized in json)\n",
        "  result = [img.width, img.height]\n",
        "  return result\n",
        "\n",
        "\n",
        "# Web Server implementation\n",
        "# 4 RESTFul APIs are available :\n",
        "# [server_url]/             => display information returned by the [server_url]/docs api\n",
        "# [server_url]/docs         => return information about each available api\n",
        "# [server_url]/ping         => use by the defold application to check if the server is still available\n",
        "# [server_url]/analyze      => an image is send as parameter, the defold application waits for a result\n",
        "\n",
        "app = FastAPI()\n",
        "\n",
        "@app.get('/', response_class=HTMLResponse)\n",
        "async def home():\n",
        "  result = \"\"\"\n",
        "<h1>FastAPI with Colab is great!</h1>\n",
        "<br>\n",
        "<p>Some useful links:</p>\n",
        "<ul>\n",
        "  <li><a href=\"%s/docs\">automatic interactive API documentation</a></li>\n",
        "</ul>\n",
        "  \"\"\" % (public_url)\n",
        "  return result\n",
        "\n",
        "@app.post(\"/analyze\")\n",
        "async def analyze(image: UploadFile = File(...)):\n",
        "  extension = pathlib.Path(image.filename).suffix.lower()\n",
        "  if not(extension in ['.png', '.jpg', '.jpeg']):\n",
        "    raise HTTPException(status_code=400, detail=\"bad parameter, waiting for a .png or .jpg filename !\")\n",
        "\n",
        "  contents = await image.read()\n",
        "  img = Image.open(io.BytesIO(contents))\n",
        "  result = processImage(img)\n",
        "  return {'msg': 'success', 'result': result}\n",
        "\n",
        "\n",
        "@app.get(\"/ping\")\n",
        "async def ping():\n",
        "  return { 'msg': 'success', 'result': 'pong'}\n",
        "\n",
        "@app.get(\"/docs\")\n",
        "async def docs_redirect():\n",
        "  response = RedirectResponse(url='/docs')\n",
        "  return response\n",
        "\n",
        "\n",
        "\n",
        "# Running...\n",
        "# > Start the tunnel in a background process\n",
        "tunnel_subprocess = subprocess.Popen(cmd, shell=True)\n",
        "print(\"Tunnel subprocess pid : \", tunnel_subprocess.pid)\n",
        "\n",
        "# > Serve the web app\n",
        "#   > Display the url using a qrcode\n",
        "print(\"Online at %s\" % public_url)\n",
        "qrcode = createQRCode(public_url)\n",
        "plt.imshow(qrcode)\n",
        "plt.show()\n",
        "sleep(0.5)\n",
        "#   > Launch the http server\n",
        "nest_asyncio.apply() #need this patch otherwise got \"RuntimeError: This event loop is already running\"\n",
        "uvicorn.run(app, port=port)"
      ],
      "execution_count": null,
      "outputs": [
        {
          "output_type": "stream",
          "name": "stdout",
          "text": [
            "tunnel subprocess pid :  688\n",
            "Online at https://3e0c4dbd80d14465b8931709c007371b.localtunnel.me\n"
          ]
        },
        {
          "output_type": "display_data",
          "data": {
            "text/plain": [
              "<Figure size 432x288 with 1 Axes>"
            ],
            "image/png": "[encoded data removed]"
          },
          "metadata": {
            "needs_background": "light"
          }
        },
        {
          "output_type": "stream",
          "name": "stderr",
          "text": [
            "INFO:     Started server process [471]\n",
            "INFO:     Waiting for application startup.\n",
            "INFO:     Application startup complete.\n",
            "INFO:     Uvicorn running on http://127.0.0.1:8000 (Press CTRL+C to quit)\n"
          ]
        },
        {
          "output_type": "stream",
          "name": "stdout",
          "text": [
            "INFO:     82.64.30.44:0 - \"GET /ping HTTP/1.1\" 200 OK\n",
            "INFO:     82.64.30.44:0 - \"GET /ping HTTP/1.1\" 200 OK\n",
            "INFO:     82.64.30.44:0 - \"GET /ping HTTP/1.1\" 200 OK\n",
            "INFO:     82.64.30.44:0 - \"GET /ping HTTP/1.1\" 200 OK\n",
            "INFO:     82.64.30.44:0 - \"GET /ping HTTP/1.1\" 200 OK\n",
            "INFO:     82.64.30.44:0 - \"GET /ping HTTP/1.1\" 200 OK\n",
            "INFO:     82.64.30.44:0 - \"GET /ping HTTP/1.1\" 200 OK\n",
            "INFO:     82.64.30.44:0 - \"GET /ping HTTP/1.1\" 200 OK\n",
            "INFO:     82.64.30.44:0 - \"GET /ping HTTP/1.1\" 200 OK\n",
            "INFO:     82.64.30.44:0 - \"GET /ping HTTP/1.1\" 200 OK\n",
            "INFO:     82.64.30.44:0 - \"GET /ping HTTP/1.1\" 200 OK\n",
            "INFO:     82.64.30.44:0 - \"GET /ping HTTP/1.1\" 200 OK\n",
            "INFO:     82.64.30.44:0 - \"GET /ping HTTP/1.1\" 200 OK\n",
            "INFO:     82.64.30.44:0 - \"GET /ping HTTP/1.1\" 200 OK\n",
            "INFO:     82.64.30.44:0 - \"GET /ping HTTP/1.1\" 200 OK\n",
            "INFO:     82.64.30.44:0 - \"GET /ping HTTP/1.1\" 200 OK\n",
            "INFO:     82.64.30.44:0 - \"GET /ping HTTP/1.1\" 200 OK\n",
            "INFO:     82.64.30.44:0 - \"GET /ping HTTP/1.1\" 200 OK\n",
            "INFO:     82.64.30.44:0 - \"GET /ping HTTP/1.1\" 200 OK\n",
            "INFO:     82.64.30.44:0 - \"GET /ping HTTP/1.1\" 200 OK\n",
            "INFO:     82.64.30.44:0 - \"GET /ping HTTP/1.1\" 200 OK\n",
            "INFO:     82.64.30.44:0 - \"GET /ping HTTP/1.1\" 200 OK\n",
            "INFO:     82.64.30.44:0 - \"GET /ping HTTP/1.1\" 200 OK\n",
            "INFO:     82.64.30.44:0 - \"GET /ping HTTP/1.1\" 200 OK\n",
            "INFO:     82.64.30.44:0 - \"GET /ping HTTP/1.1\" 200 OK\n",
            "INFO:     82.64.30.44:0 - \"GET /ping HTTP/1.1\" 200 OK\n",
            "INFO:     82.64.30.44:0 - \"GET /ping HTTP/1.1\" 200 OK\n",
            "INFO:     82.64.30.44:0 - \"GET /ping HTTP/1.1\" 200 OK\n",
            "INFO:     82.64.30.44:0 - \"GET /ping HTTP/1.1\" 200 OK\n",
            "INFO:     82.64.30.44:0 - \"GET /ping HTTP/1.1\" 200 OK\n",
            "INFO:     82.64.30.44:0 - \"GET /ping HTTP/1.1\" 200 OK\n",
            "INFO:     82.64.30.44:0 - \"GET /ping HTTP/1.1\" 200 OK\n",
            "INFO:     82.64.30.44:0 - \"GET /ping HTTP/1.1\" 200 OK\n",
            "INFO:     82.64.30.44:0 - \"GET /ping HTTP/1.1\" 200 OK\n",
            "INFO:     82.64.30.44:0 - \"GET /ping HTTP/1.1\" 200 OK\n",
            "INFO:     82.64.30.44:0 - \"GET /ping HTTP/1.1\" 200 OK\n",
            "INFO:     82.64.30.44:0 - \"GET /ping HTTP/1.1\" 200 OK\n",
            "INFO:     82.64.30.44:0 - \"GET /ping HTTP/1.1\" 200 OK\n",
            "INFO:     82.64.30.44:0 - \"GET /ping HTTP/1.1\" 200 OK\n",
            "INFO:     82.64.30.44:0 - \"GET /ping HTTP/1.1\" 200 OK\n",
            "INFO:     82.64.30.44:0 - \"GET /ping HTTP/1.1\" 200 OK\n",
            "INFO:     82.64.30.44:0 - \"GET /ping HTTP/1.1\" 200 OK\n",
            "INFO:     82.64.30.44:0 - \"GET /ping HTTP/1.1\" 200 OK\n",
            "INFO:     82.64.30.44:0 - \"GET /ping HTTP/1.1\" 200 OK\n",
            "INFO:     82.64.30.44:0 - \"POST /analyze HTTP/1.1\" 200 OK\n",
            "INFO:     82.64.30.44:0 - \"GET /ping HTTP/1.1\" 200 OK\n",
            "INFO:     82.64.30.44:0 - \"GET /ping HTTP/1.1\" 200 OK\n",
            "INFO:     82.64.30.44:0 - \"GET /ping HTTP/1.1\" 200 OK\n",
            "INFO:     82.64.30.44:0 - \"GET /ping HTTP/1.1\" 200 OK\n",
            "INFO:     82.64.30.44:0 - \"GET /ping HTTP/1.1\" 200 OK\n",
            "INFO:     82.64.30.44:0 - \"GET /ping HTTP/1.1\" 200 OK\n",
            "INFO:     82.64.30.44:0 - \"GET /ping HTTP/1.1\" 200 OK\n",
            "INFO:     82.64.30.44:0 - \"GET /ping HTTP/1.1\" 200 OK\n",
            "INFO:     82.64.30.44:0 - \"GET /ping HTTP/1.1\" 200 OK\n",
            "INFO:     82.64.30.44:0 - \"GET /ping HTTP/1.1\" 200 OK\n",
            "INFO:     82.64.30.44:0 - \"GET /ping HTTP/1.1\" 200 OK\n",
            "INFO:     82.64.30.44:0 - \"GET /ping HTTP/1.1\" 200 OK\n",
            "INFO:     82.64.30.44:0 - \"GET /ping HTTP/1.1\" 200 OK\n",
            "INFO:     82.64.30.44:0 - \"GET /ping HTTP/1.1\" 200 OK\n",
            "INFO:     82.64.30.44:0 - \"GET /ping HTTP/1.1\" 200 OK\n",
            "INFO:     82.64.30.44:0 - \"GET /ping HTTP/1.1\" 200 OK\n",
            "INFO:     82.64.30.44:0 - \"GET /ping HTTP/1.1\" 200 OK\n",
            "INFO:     82.64.30.44:0 - \"GET /ping HTTP/1.1\" 200 OK\n",
            "INFO:     82.64.30.44:0 - \"GET /ping HTTP/1.1\" 200 OK\n",
            "INFO:     82.64.30.44:0 - \"GET /ping HTTP/1.1\" 200 OK\n",
            "INFO:     82.64.30.44:0 - \"GET /ping HTTP/1.1\" 200 OK\n"
          ]
        },
        {
          "output_type": "stream",
          "name": "stderr",
          "text": [
            "INFO:     Shutting down\n",
            "INFO:     Waiting for application shutdown.\n",
            "INFO:     Application shutdown complete.\n",
            "INFO:     Finished server process [471]\n"
          ]
        }
      ]
    }
  ]
}